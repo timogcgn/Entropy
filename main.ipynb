{
 "cells": [
  {
   "cell_type": "code",
   "execution_count": 61,
   "metadata": {},
   "outputs": [],
   "source": [
    "# load all relevant packages and code\n",
    "\n",
    "load('Falcon_stuff.sage')\n",
    "load('CBD_stuff.sage')\n",
    "\n",
    "falcon512=distribution(falcon512dist)\n",
    "falcon1024=distribution(falcon1024dist)"
   ]
  },
  {
   "cell_type": "code",
   "execution_count": 62,
   "metadata": {},
   "outputs": [],
   "source": [
    "# Probability distributions are handled using dictionaries p, where the probability of sampling i is defined via\n",
    "# p[i] (if i can be sampled)\n",
    "\n",
    "B1_pdist={\n",
    "    -1:1/4,\n",
    "     0:2/4,\n",
    "     1:1/4\n",
    "}"
   ]
  },
  {
   "cell_type": "code",
   "execution_count": null,
   "metadata": {},
   "outputs": [],
   "source": [
    "# The distribution class takes as input a probability distribution and optional value base, which denotes the\n",
    "# entropy base. If unchanged, the latter is set to 2.\n",
    "\n",
    "B1e=distribution(B1_pdist, base=e)\n",
    "print(B1e)\n",
    "print()\n",
    "\n",
    "B1=distribution(B1_pdist)\n",
    "print(B1)"
   ]
  },
  {
   "cell_type": "code",
   "execution_count": null,
   "metadata": {},
   "outputs": [],
   "source": [
    "# If the input probability distribution is not normalized, distribution class automatically normalizes it\n",
    "\n",
    "B2_pdist={\n",
    "    -2:1,\n",
    "    -1:4,\n",
    "     0:6,\n",
    "     1:4,\n",
    "     2:1,\n",
    "}\n",
    "\n",
    "B2=distribution(B2_pdist)\n",
    "B2"
   ]
  },
  {
   "cell_type": "code",
   "execution_count": null,
   "metadata": {},
   "outputs": [],
   "source": [
    "# This program comes with 5 predefined distributions: B1, B2, B3, Falcon512 (~D(4.06)) and Falcon1024 (~D(2.87)).\n",
    "# Additionally, other centered binomial distributions with parameter eta can be created via CBD(eta)\n",
    "\n",
    "B10=CBD(10)\n",
    "B10"
   ]
  },
  {
   "cell_type": "code",
   "execution_count": null,
   "metadata": {},
   "outputs": [],
   "source": [
    "# The normalized probability distribution of a distribution class object can be called with self.dist or self.d .\n",
    "# The entropy is returned with self.entropy .\n",
    "\n",
    "print(B2.dist)\n",
    "print(B2.entropy)"
   ]
  },
  {
   "cell_type": "code",
   "execution_count": null,
   "metadata": {},
   "outputs": [],
   "source": [
    "# To see every unique probability value that exists in the distribution, call self.p (or self.log_p for\n",
    "# their absolute log-values).\n",
    "\n",
    "print(B2.p)\n",
    "print(B2.log_p)\n",
    "\n",
    "# To see how often these occur, call self.m; the latter is ordered such that self.p[i] appears self.m[i] many times:\n",
    "\n",
    "print(B2.m)\n",
    "\n",
    "# To see all possible sampling values, sorted by their probability of sampling, call self.label\n",
    "\n",
    "print(B2.label)"
   ]
  },
  {
   "cell_type": "code",
   "execution_count": null,
   "metadata": {},
   "outputs": [],
   "source": [
    "# The size of range of possible probabilities is denoted with eta. Since we generally deal\n",
    "# with distributions that are centered around 0, this usually coincides with the sampling range [-eta , ... , eta].\n",
    "# The range can be called with self.range\n",
    "\n",
    "print(B2.eta)\n",
    "print(B2.range)"
   ]
  },
  {
   "cell_type": "code",
   "execution_count": null,
   "metadata": {},
   "outputs": [],
   "source": [
    "# To find the probability of sampling a certain i, call self.prob(i). Can also be called for elements not in\n",
    "# the sampling range\n",
    "\n",
    "print(B2.prob(2))\n",
    "print(B2.prob('Hello World'))\n",
    "\n",
    "# To find the probability of sampling a certain vector v, call self.vec_prob(v)\n",
    "\n",
    "print(B2.vec_prob([-2, 1, 0, -1]))\n",
    "\n",
    "# A more compact way of representing a vector (and its unsigned permutations) is by counting\n",
    "# how often a certain position/ probability occurs. For example, [-2, 1, 0, -1] can be represented\n",
    "# by counting every 0, every +1, -1 and every +2, -2 and putting these weights in the list l = [1, 2, 1]\n",
    "# to find the probability of a vector with only stating its weights can be done with self.compact_vec_prob(l)\n",
    "\n",
    "print(B2.compact_vec_prob([1, 2, 1]))\n",
    "\n",
    "# each probability function has optional input f, which, if set to true, converts the output to float:\n",
    "\n",
    "print(B2.compact_vec_prob([1, 2, 1], f = True))"
   ]
  },
  {
   "cell_type": "code",
   "execution_count": null,
   "metadata": {},
   "outputs": [],
   "source": [
    "# The calculation of (expected) runtimes requires the ability to build compact dictionaries.\n",
    "# To create a compact dictionary for dimension n, call self.comp_dic(n):\n",
    "\n",
    "print(B2.comp_dic(4))\n",
    "\n",
    "# Note that these dictionaries are of size O(n^eta), which can be very large for wide distributions\n",
    "# (like D(4.06) or D(2.87)). To combat this, we can create partial compact dictionaries that only contain\n",
    "# vectors above a certain probability threshold, say 2^(-H(.)n-c) for entropy H(.) and some constant c.\n",
    "# To create such an partial compact dictionary, call self.par_comp_dic(n, c):\n",
    "\n",
    "print(B2.par_comp_dic(5,2))\n",
    "print(B2.par_comp_dic(5,0))\n",
    "print(B2.par_comp_dic(5,-2))\n",
    "\n",
    "# If a partial compact dictionary has been calculated previously vor parameters (n, c) and the function is\n",
    "# called again for (n, c') where c' < c, the former list can be reused to calculate the compact dictionary faster. \n",
    "# If c' > c, we have to restart the whole computation process. We can not use the previous partial compact dictionary."
   ]
  },
  {
   "cell_type": "code",
   "execution_count": null,
   "metadata": {},
   "outputs": [],
   "source": [
    "# distribution class objects contain a pointer to all their peviously created compact dictionaries. These\n",
    "# pointers can be found in the dictionary self.comp_dics:\n",
    "\n",
    "print(B2.comp_dics)\n",
    "\n",
    "# To call a specific (partial) compact dictionary for dimension n, call self.comp_dic_list(n):\n",
    "\n",
    "print(B2.comp_dic_list(5))\n",
    "\n",
    "# If said compact dictionary has not yet been computed, this returns an empty compact dictionary instead:\n",
    "\n",
    "print(B2.comp_dic_list(2**16))"
   ]
  },
  {
   "cell_type": "code",
   "execution_count": null,
   "metadata": {},
   "outputs": [],
   "source": [
    "# Compact dictionaries are their own class. To access the actual dictionary, call self_cd.dic\n",
    "\n",
    "ex_cd=B2.comp_dic_list(5)\n",
    "ex_cd.dic\n",
    "\n",
    "# every item in self_cd.dic is a list that contains 3 items: the actual weight distribution, the sampling distribution\n",
    "# for a vector with said distribution and the amount of vectors that have this unsigned weight distribution."
   ]
  },
  {
   "cell_type": "code",
   "execution_count": null,
   "metadata": {},
   "outputs": [],
   "source": [
    "# To retreive the amount of vectors that are represented with the stored partial dictionary, call self_cd.count\n",
    "\n",
    "print(ex_cd.count)\n",
    "\n",
    "# The cumulative sampling probability of all these vectors can be returned with self_cd.p\n",
    "\n",
    "print(ex_cd.p)"
   ]
  },
  {
   "cell_type": "code",
   "execution_count": null,
   "metadata": {},
   "outputs": [],
   "source": [
    "# The value for c from function call self.par_comp_dic(n, c) is stored in self_cd.c\n",
    "\n",
    "print(ex_cd.c)\n",
    "\n",
    "# The empty compact dictionary has value c set to -inf. Compact dictionaries created with calling self.comp_dic(n)\n",
    "# have their value of c set to -(H(.)-max(self.log_p))n+1\n",
    "\n",
    "print(empty_comp_dic.c)\n",
    "print(B2.comp_dic_list(4).c)"
   ]
  },
  {
   "cell_type": "code",
   "execution_count": null,
   "metadata": {},
   "outputs": [],
   "source": [
    "# To create csv-style tables containing raw data for n in range [low_n, high_n], call self.raw_data():\n",
    "\n",
    "B2.raw_data(1,3)\n",
    "print()\n",
    "\n",
    "# the column heads of the csv table are\n",
    "# n: vector dimension n\n",
    "# p: probability that a randomly sampled vector has sampling probability 2^(-H(.)n-c)\n",
    "# coresize: amount of vectors that satisfy the above condition (i.e. size of core set)\n",
    "# Eclassic: expected runtime of running AbortedKeyGuess on that set of vectors\n",
    "# Equantum: expected runtime of running Montanaro's algorithm on the very set of vectors\n",
    "\n",
    "# By default, we set c to 0. If another calue for c is required, c can optionally be altered:\n",
    "\n",
    "B2.raw_data(1,3, c=3)\n",
    "print()\n",
    "\n",
    "# If not every element from that range is required, the step size can be increased with the optional step command:\n",
    "\n",
    "B2.raw_data(1,5, step=2)\n",
    "print()\n",
    "\n",
    "# Since we do not need the complete compact dictionary except when we compare the expected runtimes of KeyGuess\n",
    "# and AbortedKeyGuess, we omit the expected runtime of KeyGuess unless specifically asked for. This can be done\n",
    "# with the optional command aborts = False:\n",
    "\n",
    "B2.raw_data(1,3, aborts = False)\n",
    "print()\n",
    "\n",
    "# The last function call has an additional column that contains the expected runtime of KeyGuess with column head\n",
    "# Enoabort: Expected runtime of KeyGuess\n",
    "\n",
    "# If the compact dictionaries are no longer required after the csv table is computed, the optional command\n",
    "# delete_after can be set to true to immediately delete the compact dictionaries:\n",
    "\n",
    "print(list(B2.comp_dics))\n",
    "B2.raw_data(1,3, delete_after = True)\n",
    "print(list(B2.comp_dics))\n",
    "\n",
    "# Note how the last call of B2.comp_dics does not contain the keys n = 1, 2, 3."
   ]
  }
 ],
 "metadata": {
  "kernelspec": {
   "display_name": "SageMath 9.3",
   "language": "sage",
   "name": "sagemath"
  },
  "language_info": {
   "codemirror_mode": {
    "name": "ipython",
    "version": 3
   },
   "file_extension": ".py",
   "mimetype": "text/x-python",
   "name": "python",
   "nbconvert_exporter": "python",
   "pygments_lexer": "ipython3",
   "version": "3.7.10"
  }
 },
 "nbformat": 4,
 "nbformat_minor": 4
}
