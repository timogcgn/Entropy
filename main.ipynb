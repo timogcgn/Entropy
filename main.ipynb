{
 "cells": [
  {
   "cell_type": "code",
   "execution_count": 61,
   "metadata": {},
   "outputs": [],
   "source": [
    "# load all relevant packages and code\n",
    "\n",
    "load('New_Falcon_stuff.sage')\n",
    "load('CBD_stuff.sage')\n",
    "\n",
    "import gc\n",
    "\n",
    "from Entropy_stuff import *\n",
    "from Multinomial import *\n",
    "from Largelog import *\n",
    "from Root_sum import approx_sum_of_roots\n",
    "from Compact_Dictionary import *"
   ]
  },
  {
   "cell_type": "code",
   "execution_count": null,
   "metadata": {},
   "outputs": [],
   "source": [
    "# Probability distributions are handled using dictionaries p, where the probability of sampling i is defined via\n",
    "# p[i] (if i can be sampled)\n",
    "\n",
    "B1_pdist={\n",
    "    -1:1/4,\n",
    "     0:2/4,\n",
    "     1:1/4\n",
    "}"
   ]
  },
  {
   "cell_type": "code",
   "execution_count": null,
   "metadata": {},
   "outputs": [],
   "source": [
    "# The distribution class takes as input a probability distribution and optional value base, which denotes the\n",
    "# entropy base. If unchanged, the latter is set to 2.\n",
    "\n",
    "B1e=distribution(B1_pdist, base=e)\n",
    "print(B1e)\n",
    "print()\n",
    "print()\n",
    "\n",
    "B1=distribution(B1_pdist)\n",
    "print(B1)\n",
    "print()\n",
    "print()\n",
    "\n",
    "# When a distribution is defined via PMF instead of a dictionary of probabilities, we use\n",
    "\n",
    "Falcon512=func_distribution('Falcon512', #Name of distribution\n",
    "                            distribution_falcon, #PMF\n",
    "                            [falcon512_sigma], #parameter set\n",
    "                            ['sigma'] #parameter names\n",
    "                           )\n",
    "print(Falcon512)"
   ]
  },
  {
   "cell_type": "code",
   "execution_count": null,
   "metadata": {},
   "outputs": [],
   "source": [
    "# If the input probability distribution is not normalized, the distribution class automatically normalizes it\n",
    "\n",
    "B2_pdist={\n",
    "    -2:1,\n",
    "    -1:4,\n",
    "     0:6,\n",
    "     1:4,\n",
    "     2:1,\n",
    "}\n",
    "\n",
    "B2=distribution(B2_pdist)\n",
    "B2"
   ]
  },
  {
   "cell_type": "code",
   "execution_count": null,
   "metadata": {},
   "outputs": [],
   "source": [
    "# This program comes with 5 predefined distributions: B1, B2, B3, Falcon512 (~D(4.06)) and Falcon1024 (~D(2.87)).\n",
    "# Additionally, other centered binomial distributions with parameter eta can be created via CBD(eta)\n",
    "\n",
    "B10=CBD(10)\n",
    "B10"
   ]
  },
  {
   "cell_type": "code",
   "execution_count": null,
   "metadata": {},
   "outputs": [],
   "source": [
    "# The normalized probability distribution of a distribution class object can be called with self.dist or self.d .\n",
    "# The entropy is returned with self.entropy .\n",
    "\n",
    "print(\"The Distribution of B(2) is defined through \" + str(B2.dist)) # This object does not exist for func_distribution objects\n",
    "print(\"The Entropy of B(2) is \" + str(B2.entropy))\n",
    "print(\"The Entropy of Falcon512 is \" + str(Falcon512.entropy))"
   ]
  },
  {
   "cell_type": "code",
   "execution_count": null,
   "metadata": {},
   "outputs": [],
   "source": [
    "# To see every unique probability value that exists in the distribution, call self.p (or self.log_p for\n",
    "# their absolute log-values).\n",
    "\n",
    "print(\"The non-zero probabilities in B(2) are \" + str(B2.p)) # This object does not exist for func_distribution objects\n",
    "print(\"Their absolute logs are \" + str(B2.log_p)) # This object does not exist for func_distribution objects\n",
    "\n",
    "# To see how often these occur, call self.m; the latter is ordered such that self.p[i] appears self.m[i] many times:\n",
    "\n",
    "print(\"The amount of vectors with a certain probability are \" + str(B2.m)) # This object does not exist for func_distribution objects\n",
    "\n",
    "# To see all possible sampling values, sorted by their probability of sampling, call self.label\n",
    "\n",
    "print(\"Specifically, the coordinates with a given probability are \" + str(B2.label)) # This object does not exist for func_distribution objects"
   ]
  },
  {
   "cell_type": "code",
   "execution_count": null,
   "metadata": {},
   "outputs": [],
   "source": [
    "# The size of range of possible probabilities is denoted with eta. Since we generally deal\n",
    "# with distributions that are centered around 0, this usually coincides with the sampling range [-eta , ... , eta].\n",
    "# The range can be called with self.range\n",
    "\n",
    "print(\"The eta value of B(2) is \" + str(B2.eta)) # This object does not exist for func_distribution objects\n",
    "print(\"The sampling space of B(2) is \" + str(B2.range)) # This object does not exist for func_distribution objects"
   ]
  },
  {
   "cell_type": "code",
   "execution_count": null,
   "metadata": {},
   "outputs": [],
   "source": [
    "# To find the probability of sampling a certain i, call self.prob(i). Can also be called for elements not in\n",
    "# the sampling range.\n",
    "\n",
    "print(\"The probability to sample 2 in B(2) is \" + str(B2.prob(2)))\n",
    "print(\"The probability to sample 'Hello World' in B(2) is \" + str(B2.prob(\"Hello World\")))\n",
    "print(\"The probability to sample 2 in Falcon512 is \" + str(Falcon512.prob(2))) # func_distribution objects are\n",
    "# not capable of finding the probabilities of events that don't lie in the sampling space.\n",
    "print()\n",
    "\n",
    "# To find the probability of sampling a certain vector v, call self.vec_prob(v)\n",
    "\n",
    "print(\"Sampling [-2, 1, 0, -1] in B(2)^4 has probability \" + str(B2.vec_prob([-2, 1, 0, -1])))\n",
    "print(\"Sampling [-2, 1, 0, -1] in Falcon512^4 has probability \" + str(Falcon512.vec_prob([-2, 1, 0, -1])))\n",
    "print()\n",
    "\n",
    "\n",
    "# A more compact way of representing a vector (and its unsigned permutations) is by counting\n",
    "# how often a certain position/ probability occurs. For example, [-2, 1, 0, -1] can be represented\n",
    "# by counting every 0, every +1, -1 and every +2, -2 and putting these weights in the list l = [1, 2, 1]\n",
    "# to find the probability of a vector with only stating its weights can be done with self.compact_vec_prob(l)\n",
    "\n",
    "print(\"Sampling a vector with 1 0, 2 +-1 and 1 +-2 (w/ fixed order) in B(2) has probability \" + str(B2.compact_vec_prob([1, 2, 1])))\n",
    "print()\n",
    "\n",
    "# for func_distribution objects, the vector can be of any length\n",
    "\n",
    "print(\"Sampling a vector with 1 0 and 1 +-101 (w/ fixed order) in Falcon512 has probability \" + str(Falcon512.compact_vec_prob([1] + 100*[0] + [1])))\n",
    "print()\n",
    "\n",
    "\n",
    "# each probability function has optional input f, which, if set to true, converts the output to float:\n",
    "\n",
    "print(\"Sampling a vector with 1 0 and 2 +-1 (w/ fixed order) in B(2) has probability \" + str(B2.compact_vec_prob([1, 2], f = True)) + \" (or \" + str(B2.compact_vec_prob([1, 2], f = False)) + \")\")"
   ]
  },
  {
   "cell_type": "code",
   "execution_count": null,
   "metadata": {},
   "outputs": [],
   "source": [
    "# The calculation of (expected) runtimes requires the ability to build compact dictionaries.\n",
    "# To create a compact dictionary for dimension n, call self.comp_dic(n):\n",
    "\n",
    "print(\"The compact dictionary of B(2)^3 consists of a \" + str(B2.comp_dic(3))) # Impossible for func_distribution objects,\n",
    "# as compact dictionaries are infinitely large\n",
    "print()\n",
    "# Note that these dictionaries are of size O(n^eta), which can be very large for wide distributions\n",
    "# (like D(4.06) or D(2.87)). To combat this, we can create partial compact dictionaries that only contain\n",
    "# vectors above a certain probability threshold, say 2^(-H(.)n-offset) for entropy H(.) and some constant offset.\n",
    "# To create such an partial compact dictionary, call self.par_comp_dic(n, offset):\n",
    "\n",
    "print(\"One partial compact dictionary of Falcon512^3 consists of a \" + str(Falcon512.par_comp_dic(3,offset=1)))\n",
    "print()\n",
    "print(\"Another partial compact dictionary of Falcon512^3 consists of a \" + str(Falcon512.par_comp_dic(3,offset=0)))\n",
    "print()\n",
    "print(\"Another partial compact dictionary of Falcon512^3 consists of a \" + str(Falcon512.par_comp_dic(3,offset=-1)))\n",
    "\n",
    "# If a partial compact dictionary has been calculated previously for parameters (n, offset) and the function is\n",
    "# called again for (n, offset') where offset' < offset, the former list can be reused to calculate the compact dictionary faster. \n",
    "# If offset' > offset, we have to restart the whole computation process. We can not use the already existing partial\n",
    "# compact dictionary to make this process faster."
   ]
  },
  {
   "cell_type": "code",
   "execution_count": null,
   "metadata": {},
   "outputs": [],
   "source": [
    "# distribution class objects contain a pointer to all their peviously created compact dictionaries. These\n",
    "# pointers can be found in the dictionary self.comp_dics:\n",
    "\n",
    "print(\"We have created the following compact dictionaries for B(2): \" + str(B2.comp_dics))\n",
    "print(\"We have created the following compact dictionaries for D(4.06): \" + str(Falcon512.comp_dics))\n",
    "\n",
    "# To call a specific (partial) compact dictionary for dimension n, call self.comp_dic_list(n):\n",
    "\n",
    "print(\"We have created the following compact dictionary for D(4.06)^3: \" + str(Falcon512.comp_dic_list(3)))\n",
    "\n",
    "# If said compact dictionary has not yet been computed, this returns an empty compact dictionary instead:\n",
    "\n",
    "print(\"We have created the following compact dictionary for D(4.06)^(2^200): \" + str(Falcon512.comp_dic_list(2**200)))"
   ]
  },
  {
   "cell_type": "code",
   "execution_count": null,
   "metadata": {},
   "outputs": [],
   "source": [
    "# Compact dictionaries are their own class. To access the actual dictionary, call self_cd.dic\n",
    "\n",
    "B2.par_comp_dic(4)\n",
    "ex_cd=B2.comp_dic_list(4)\n",
    "ex_fcd=Falcon512.comp_dic_list(3)\n",
    "print(\"The compact dictionary for B(2)^4 looks like this: \" + str(ex_cd.dic))\n",
    "print()\n",
    "\n",
    "\n",
    "\n",
    "# every item in self_cd.dic is a list that contains 4 items: the actual weight distribution, the sampling distribution\n",
    "# for a vector with said distribution, the amount of vectors that have this unsigned weight distribution and the \n",
    "# amount of vectors from previous (i.e. more likely) entries.\n",
    "\n",
    "print(\"There are a total of \" + str(ex_cd.dic[2][2]) + \" vectors with weight distribution \"\n",
    "      + str(ex_cd.dic[2][0]) + \". Their sampling probability is \"+ str(ex_cd.dic[2][1]) + \n",
    "      \" (each). There are \" + str(ex_cd.dic[2][3]) + \" vectors that are at least as likely as these vectors.\")\n",
    "\n"
   ]
  },
  {
   "cell_type": "code",
   "execution_count": null,
   "metadata": {},
   "outputs": [],
   "source": [
    "# To retreive the amount of vectors that are represented with the stored partial dictionary, call self_cd.count\n",
    "# (or logcount() if you need the log of count)\n",
    "\n",
    "print(\"there are \" + str(ex_cd.count) + \" vectors represented through the partial compact dictionary of B(2)^4. \"\n",
    "      \"As a power of 2, that is 2^\" + str(ex_cd.logcount()) + \".\")\n",
    "print(\"there are \" + str(ex_fcd.count) + \" vectors represented through the partial compact dictionary of Falcon512^3. \"\n",
    "      \"As a power of 2, that is 2^\" + str(ex_fcd.logcount()) + \".\")\n",
    "print()\n",
    "\n",
    "# The cumulative sampling probability of all these vectors can be returned with self_cd.p\n",
    "\n",
    "print(\"The probability of sampling an element from the partial compact dictionary of B(2)^4 is \" + str(ex_cd.p) + \".\")\n",
    "print(\"The probability of sampling an element from the partial compact dictionary of Falcon512^3 is \" + str(ex_fcd.p) + \".\")"
   ]
  },
  {
   "cell_type": "code",
   "execution_count": null,
   "metadata": {},
   "outputs": [],
   "source": [
    "# The value for offset from function call self.par_comp_dic(n, offset) is stored in self_cd.offset\n",
    "\n",
    "print(\"Every element in the partial compact dictionary of B(2)^4 has sampling probability at least 2^(-H(B(2))*3 -\"\n",
    "      +  str(ex_cd.offset) + \").\") \n",
    "print(\"Every element in the partial compact dictionary of Falcon512^3 has sampling probability at least 2^(-H(Falcon512)*4 -\"\n",
    "      +  str(ex_fcd.offset) + \").\") \n",
    "print()\n",
    "\n",
    "# The empty compact dictionary has value c set to -inf. Compact dictionaries created with calling self.comp_dic(n)\n",
    "# have their value of c set to -(H(.)-max(self.log_p))n+1\n",
    "\n",
    "print(\"Elements from the empty compact dictionary have sampling probability 2^(-H(chi)*n +\" + str(-empty_comp_dic.offset) + \").\")\n",
    "print(\"Elements from the non-partial, compact dictionary of B(2)^3 have sampling probability at least 2^(-H(B(2))*3 -\"\n",
    "       + str(B2.comp_dic_list(3).offset) + \").\")"
   ]
  },
  {
   "cell_type": "code",
   "execution_count": null,
   "metadata": {},
   "outputs": [],
   "source": [
    "# To create csv-style tables containing raw data for n in range [low_n, high_n], call self.raw_data():\n",
    "\n",
    "B2.raw_data(1,3)\n",
    "print()\n",
    "Falcon512.raw_data(4,6)\n",
    "\n",
    "# the column heads of the csv table are\n",
    "# n: vector dimension n\n",
    "# p: probability that a randomly sampled vector has sampling probability 2^(-H(.)n-offset)\n",
    "# runtime: amount of vectors that satisfy the above condition\n",
    "# Eclassic: expected runtime of running AbortedKeyGuess on that set of vectors\n",
    "# Equantum: expected runtime of running Montanaro's algorithm on the very set of vectors"
   ]
  },
  {
   "cell_type": "code",
   "execution_count": null,
   "metadata": {},
   "outputs": [],
   "source": [
    "# By default, we set offset to 0. If another calue for offset is required, offset can optionally be altered:\n",
    "\n",
    "B2.raw_data(1,3, offset=3)\n",
    "print()\n",
    "Falcon512.raw_data(4,6, offset=3)\n",
    "print()"
   ]
  },
  {
   "cell_type": "code",
   "execution_count": null,
   "metadata": {},
   "outputs": [],
   "source": [
    "# If not every element from that range is required, the step size can be increased with the optional step command:\n",
    "\n",
    "B2.raw_data(1,5, step=2)\n",
    "print()\n",
    "Falcon512.raw_data(4,8, step=2)"
   ]
  },
  {
   "cell_type": "code",
   "execution_count": null,
   "metadata": {},
   "outputs": [],
   "source": [
    "# Since we do not need the complete compact dictionary except when we compare the expected runtimes of KeyGuess\n",
    "# and AbortedKeyGuess, we omit the expected runtime of KeyGuess unless specifically asked for. This can be done\n",
    "# with the optional command aborts = False:\n",
    "\n",
    "B2.raw_data(1,3, aborts = False) # This object does not exist for func_distribution objects\n",
    "print()\n",
    "\n",
    "# The last function call has an additional column that contains the expected runtime of KeyGuess with column head\n",
    "# Enoabort: Expected runtime of KeyGuess w/o aborts"
   ]
  },
  {
   "cell_type": "code",
   "execution_count": null,
   "metadata": {},
   "outputs": [],
   "source": [
    "# If the compact dictionaries are no longer required after the csv table is computed, the optional command\n",
    "# delete_after can be set to true to immediately delete the compact dictionaries:\n",
    "\n",
    "print(list(B2.comp_dics))\n",
    "B2.raw_data(1,3, delete_after = True)\n",
    "print(list(B2.comp_dics))\n",
    "print()\n",
    "\n",
    "\n",
    "print(list(Falcon512.comp_dics))\n",
    "Falcon512.raw_data(4,6, delete_after = True)\n",
    "print(list(Falcon512.comp_dics))\n",
    "\n",
    "# Note how the last call of B2.comp_dics does not contain the keys n = 1, 2, 3."
   ]
  },
  {
   "cell_type": "code",
   "execution_count": null,
   "metadata": {},
   "outputs": [],
   "source": [
    "# Note that the previous method returns the analysis for KeyGuess for ALL vectors represented in the  partial compact\n",
    "# dictionary. In general, we do not assume that the partial compact dictionary represents exactly 2^(H(chi)*n) many\n",
    "# vectors. To get the results for exactly 2^(H(chi)*n) many vectors, you have to run raw_data_veccount instead:\n",
    "\n",
    "B2.raw_data_veccount(1,3)\n",
    "print()\n",
    "Falcon512.raw_data_veccount(4,6)"
   ]
  },
  {
   "cell_type": "code",
   "execution_count": null,
   "metadata": {},
   "outputs": [],
   "source": [
    "# To get the results for sampling 2^(H(chi)*n+border_offset) many vectors instead, call\n",
    "# dist.raw_data_veccount(low, high, border_offset=border_offset instead:)\n",
    "\n",
    "B2.raw_data_veccount(1,3, border_offset=-1)\n",
    "print()\n",
    "Falcon512.raw_data_veccount(4,6, border_offset=1)"
   ]
  },
  {
   "cell_type": "code",
   "execution_count": null,
   "metadata": {},
   "outputs": [],
   "source": [
    "# The routine GetKey returns the i-th most likely vector (starting at 0, sorted lexicographically and by order of signs).\n",
    "# It requires the precomputation of the compact dictionary first\n",
    "\n",
    "print(\"The 16,050,000-th most likely key of B(3)^10 is \" + str(B3.GetKey(16049999,10)))\n",
    "print()\n",
    "print()\n",
    "\n",
    "# To get a \n",
    "\n",
    "print(\"The 100,000 to 100,010-th most likely keys of B(3)^10 are\")\n",
    "print()\n",
    "print(B3.GetKeys(99999,100009,10))"
   ]
  }
 ],
 "metadata": {
  "kernelspec": {
   "display_name": "SageMath 9.3",
   "language": "sage",
   "name": "sagemath"
  },
  "language_info": {
   "codemirror_mode": {
    "name": "ipython",
    "version": 3
   },
   "file_extension": ".py",
   "mimetype": "text/x-python",
   "name": "python",
   "nbconvert_exporter": "python",
   "pygments_lexer": "ipython3",
   "version": "3.7.10"
  }
 },
 "nbformat": 4,
 "nbformat_minor": 4
}
